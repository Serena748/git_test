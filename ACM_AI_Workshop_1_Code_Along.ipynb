{
  "nbformat": 4,
  "nbformat_minor": 0,
  "metadata": {
    "colab": {
      "provenance": [],
      "include_colab_link": true
    },
    "kernelspec": {
      "name": "python3",
      "display_name": "Python 3"
    },
    "language_info": {
      "name": "python"
    }
  },
  "cells": [
    {
      "cell_type": "markdown",
      "metadata": {
        "id": "view-in-github",
        "colab_type": "text"
      },
      "source": [
        "<a href=\"https://colab.research.google.com/github/Serena748/git_test/blob/main/ACM_AI_Workshop_1_Code_Along.ipynb\" target=\"_parent\"><img src=\"https://colab.research.google.com/assets/colab-badge.svg\" alt=\"Open In Colab\"/></a>"
      ]
    },
    {
      "cell_type": "markdown",
      "source": [
        "#ACM AI Beginner Workshops\n",
        "\n",
        "## Python Crash Course\n"
      ],
      "metadata": {
        "id": "mIegp0Hs0k3I"
      }
    },
    {
      "cell_type": "markdown",
      "source": [
        "\n",
        "##Datatypes\n",
        "\n",
        "###Integers and Arithmetic\n"
      ],
      "metadata": {
        "id": "Jf0UIsJ80pLc"
      }
    },
    {
      "cell_type": "code",
      "source": [
        "#Variables aren't typed in python\n",
        "x = 5\n",
        "y = 3\n",
        "x"
      ],
      "metadata": {
        "colab": {
          "base_uri": "https://localhost:8080/"
        },
        "id": "QHBsj3_b03D_",
        "outputId": "e9de8b83-083f-4372-d20c-39785607fc87"
      },
      "execution_count": null,
      "outputs": [
        {
          "output_type": "execute_result",
          "data": {
            "text/plain": [
              "7"
            ]
          },
          "metadata": {},
          "execution_count": 2
        }
      ]
    },
    {
      "cell_type": "code",
      "source": [
        "#Addition\n",
        "z = x + y\n",
        "z"
      ],
      "metadata": {
        "colab": {
          "base_uri": "https://localhost:8080/"
        },
        "id": "sRe8NSC61B2W",
        "outputId": "eba91055-612d-4f4b-d21b-902355a8d287"
      },
      "execution_count": null,
      "outputs": [
        {
          "output_type": "execute_result",
          "data": {
            "text/plain": [
              "16"
            ]
          },
          "metadata": {},
          "execution_count": 3
        }
      ]
    },
    {
      "cell_type": "code",
      "source": [
        "#Subtraction\n",
        "z = x - y\n",
        "z"
      ],
      "metadata": {
        "colab": {
          "base_uri": "https://localhost:8080/"
        },
        "id": "MR3CyaeU1JrG",
        "outputId": "98123cff-3eb1-4d62-fcf1-3df8af4624d4"
      },
      "execution_count": null,
      "outputs": [
        {
          "output_type": "execute_result",
          "data": {
            "text/plain": [
              "2"
            ]
          },
          "metadata": {},
          "execution_count": 4
        }
      ]
    },
    {
      "cell_type": "code",
      "source": [
        "#Division\n",
        "z = x / y\n",
        "z"
      ],
      "metadata": {
        "colab": {
          "base_uri": "https://localhost:8080/"
        },
        "id": "HVBpvaZd1NeH",
        "outputId": "175aca73-d883-421f-fc78-96af119f8aa3"
      },
      "execution_count": null,
      "outputs": [
        {
          "output_type": "execute_result",
          "data": {
            "text/plain": [
              "1.2857142857142858"
            ]
          },
          "metadata": {},
          "execution_count": 5
        }
      ]
    },
    {
      "cell_type": "code",
      "source": [
        "#Floor/Integer Division\n",
        "z = x // y\n",
        "z"
      ],
      "metadata": {
        "colab": {
          "base_uri": "https://localhost:8080/"
        },
        "id": "-YIIGeOD1Ugm",
        "outputId": "e0defc10-daaa-44b6-df47-0ae1ec932de3"
      },
      "execution_count": null,
      "outputs": [
        {
          "output_type": "execute_result",
          "data": {
            "text/plain": [
              "1"
            ]
          },
          "metadata": {},
          "execution_count": 6
        }
      ]
    },
    {
      "cell_type": "code",
      "source": [
        "#Modulo\n",
        "z = x % y\n",
        "z"
      ],
      "metadata": {
        "colab": {
          "base_uri": "https://localhost:8080/"
        },
        "id": "GwI-f8H81XuT",
        "outputId": "aa72a66d-214a-4ea3-9c73-63da02459457"
      },
      "execution_count": null,
      "outputs": [
        {
          "output_type": "execute_result",
          "data": {
            "text/plain": [
              "2"
            ]
          },
          "metadata": {},
          "execution_count": 7
        }
      ]
    },
    {
      "cell_type": "code",
      "source": [
        "#Multiplication\n",
        "z = x * y\n",
        "z"
      ],
      "metadata": {
        "colab": {
          "base_uri": "https://localhost:8080/"
        },
        "id": "LyH8UhoE1ePQ",
        "outputId": "29fea7d3-7b7a-490a-be1e-25283211a7db"
      },
      "execution_count": null,
      "outputs": [
        {
          "output_type": "execute_result",
          "data": {
            "text/plain": [
              "63"
            ]
          },
          "metadata": {},
          "execution_count": 8
        }
      ]
    },
    {
      "cell_type": "code",
      "source": [
        "#Exponentiation\n",
        "z = x ** 3\n",
        "z"
      ],
      "metadata": {
        "colab": {
          "base_uri": "https://localhost:8080/"
        },
        "id": "7HWZiJmb1q-3",
        "outputId": "06161b62-c9e6-4442-cf6d-3e8a0e3063f7"
      },
      "execution_count": null,
      "outputs": [
        {
          "output_type": "execute_result",
          "data": {
            "text/plain": [
              "729"
            ]
          },
          "metadata": {},
          "execution_count": 9
        }
      ]
    },
    {
      "cell_type": "markdown",
      "source": [
        "###Strings"
      ],
      "metadata": {
        "id": "sIDfn2JU15x5"
      }
    },
    {
      "cell_type": "code",
      "source": [
        "#Strings represent text\n",
        "welcome_Str = \"Welcome to \"\n",
        "org = \"ACM AI\"\n",
        "print(welcome_Str + org)"
      ],
      "metadata": {
        "colab": {
          "base_uri": "https://localhost:8080/"
        },
        "id": "4L-GwSFS18bA",
        "outputId": "b1f6448c-62d4-4beb-9ba5-67aebe0cd12c"
      },
      "execution_count": null,
      "outputs": [
        {
          "output_type": "stream",
          "name": "stdout",
          "text": [
            "Welcome to ACM AI\n"
          ]
        }
      ]
    },
    {
      "cell_type": "code",
      "source": [
        "#fstring printing\n",
        "welcome_Str = \"Welcome to\"\n",
        "print(f'{welcome_Str} {org}')"
      ],
      "metadata": {
        "colab": {
          "base_uri": "https://localhost:8080/"
        },
        "id": "AJ_b3n5c2LUH",
        "outputId": "fa0167a5-1f62-4e38-ec69-611146c3e83e"
      },
      "execution_count": null,
      "outputs": [
        {
          "output_type": "stream",
          "name": "stdout",
          "text": [
            "Welcome to ACM AI\n"
          ]
        }
      ]
    },
    {
      "cell_type": "markdown",
      "source": [
        "###Lists"
      ],
      "metadata": {
        "id": "OYUmJhLa5eha"
      }
    },
    {
      "cell_type": "markdown",
      "source": [
        "Lists are essentially containers for data in python. They can contain anything, and are 0 indexed, meaning that the first item is stored at index 0 and the last item is stored at index length - 1."
      ],
      "metadata": {
        "id": "GQYUeiZY5iHG"
      }
    },
    {
      "cell_type": "code",
      "source": [
        "#List example\n",
        "data = [12, \"Lists can contain multiple datatypes\", [1,2,3], (1,2)]\n",
        "ones_List = [1] * 10\n",
        "print(data)\n",
        "print(ones_List)"
      ],
      "metadata": {
        "id": "GMTAPe2x5yFy"
      },
      "execution_count": null,
      "outputs": []
    },
    {
      "cell_type": "code",
      "source": [
        "#Accessing data\n",
        "# indices  0  1      2        3  4  5   6 7  8\n",
        "numbers = [3, 1, [4, [1, 5]], 9, 2, 6, 5, 3, 5]"
      ],
      "metadata": {
        "id": "whtacE636L2M"
      },
      "execution_count": null,
      "outputs": []
    },
    {
      "cell_type": "markdown",
      "source": [
        "Python also supports negative indexing, and operations on lists such as appending, popping, and slicing"
      ],
      "metadata": {
        "id": "Onbopy3_Vxvb"
      }
    },
    {
      "cell_type": "code",
      "source": [
        "list_Example = [1,2,3,4]\n",
        "x = list_Example[-1]\n",
        "y = list_Example[1:3]\n",
        "z = list_Example.pop()\n",
        "list_Example.append(10)\n",
        "print(x)\n",
        "print(y)\n",
        "print(z)\n",
        "print(list_Example)"
      ],
      "metadata": {
        "colab": {
          "base_uri": "https://localhost:8080/"
        },
        "id": "GnGvyTgLV5-o",
        "outputId": "0f87ca04-0ab2-454b-a1ca-7576c4d50ca1"
      },
      "execution_count": null,
      "outputs": [
        {
          "output_type": "stream",
          "name": "stdout",
          "text": [
            "4\n",
            "[2, 3]\n",
            "4\n",
            "[1, 2, 3, 10]\n"
          ]
        }
      ]
    },
    {
      "cell_type": "markdown",
      "source": [
        "##KNN Demo: Iris Flower Classification"
      ],
      "metadata": {
        "id": "DeaJAHL33IT6"
      }
    },
    {
      "cell_type": "code",
      "execution_count": null,
      "metadata": {
        "id": "8Xjy_1QX3Cg3"
      },
      "outputs": [],
      "source": [
        "import numpy as np\n",
        "import matplotlib.pyplot as plt\n",
        "from sklearn.neighbors import KNeighborsClassifier\n",
        "from sklearn.model_selection import train_test_split\n",
        "from sklearn.datasets import load_iris"
      ]
    },
    {
      "cell_type": "code",
      "source": [
        "#Load the Dataset using builtin function\n",
        "iris_data = load_iris()\n"
      ],
      "metadata": {
        "id": "hnsvs0qTULFR"
      },
      "execution_count": null,
      "outputs": []
    }
  ]
}